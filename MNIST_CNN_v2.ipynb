{
  "nbformat": 4,
  "nbformat_minor": 0,
  "metadata": {
    "colab": {
      "provenance": [],
      "gpuType": "T4",
      "authorship_tag": "ABX9TyNev4JErWTdHCU018SZjzaD",
      "include_colab_link": true
    },
    "kernelspec": {
      "name": "python3",
      "display_name": "Python 3"
    },
    "language_info": {
      "name": "python"
    },
    "accelerator": "GPU"
  },
  "cells": [
    {
      "cell_type": "markdown",
      "metadata": {
        "id": "view-in-github",
        "colab_type": "text"
      },
      "source": [
        "<a href=\"https://colab.research.google.com/github/Holmes-Alan/MNIST_LeNet/blob/main/MNIST_CNN_v2.ipynb\" target=\"_parent\"><img src=\"https://colab.research.google.com/assets/colab-badge.svg\" alt=\"Open In Colab\"/></a>"
      ]
    },
    {
      "cell_type": "code",
      "execution_count": null,
      "metadata": {
        "colab": {
          "base_uri": "https://localhost:8080/"
        },
        "id": "KArKSiupgaGi",
        "outputId": "eae314fd-f8c0-45ee-c9b9-b60dfd6a7c91"
      },
      "outputs": [
        {
          "output_type": "stream",
          "name": "stdout",
          "text": [
            "Cloning into 'MNIST_LeNet'...\n",
            "remote: Enumerating objects: 6, done.\u001b[K\n",
            "remote: Counting objects: 100% (6/6), done.\u001b[K\n",
            "remote: Compressing objects: 100% (4/4), done.\u001b[K\n",
            "remote: Total 6 (delta 0), reused 0 (delta 0), pack-reused 0\u001b[K\n",
            "Receiving objects: 100% (6/6), 15.33 MiB | 15.05 MiB/s, done.\n"
          ]
        }
      ],
      "source": [
        "!git clone https://github.com/Holmes-Alan/MNIST_LeNet.git"
      ]
    },
    {
      "cell_type": "code",
      "source": [
        "cd MNIST_LeNet"
      ],
      "metadata": {
        "colab": {
          "base_uri": "https://localhost:8080/"
        },
        "id": "cfLCSpjVgs8F",
        "outputId": "99ecf1fb-4f41-45f8-b5b4-5623f06b5016"
      },
      "execution_count": null,
      "outputs": [
        {
          "output_type": "stream",
          "name": "stdout",
          "text": [
            "/content/MNIST_LeNet\n"
          ]
        }
      ]
    },
    {
      "cell_type": "code",
      "source": [
        "!unzip mnist_data.zip"
      ],
      "metadata": {
        "colab": {
          "base_uri": "https://localhost:8080/"
        },
        "id": "E6-M3dfjgxcp",
        "outputId": "e566ca4f-753c-4aa5-b2b8-4244cb18e4f3"
      },
      "execution_count": null,
      "outputs": [
        {
          "output_type": "stream",
          "name": "stdout",
          "text": [
            "Archive:  mnist_data.zip\n",
            "  inflating: mnist_test.csv          \n",
            "  inflating: mnist_train.csv         \n"
          ]
        }
      ]
    },
    {
      "cell_type": "code",
      "source": [
        "import numpy as np # to handle matrix and data operation\n",
        "import pandas as pd # to read csv and handle dataframe\n",
        "\n",
        "import torch # to load pytorch library\n",
        "import torch.nn as nn # to load pytorch library\n",
        "import torch.nn.functional as F # to load pytorch function\n",
        "import torch.utils.data # to load data processor\n",
        "from torch.autograd import Variable # pytorch data type\n",
        "from torchvision import datasets, transforms\n",
        "import matplotlib.pyplot as plt"
      ],
      "metadata": {
        "id": "0zAXY0BahAZP"
      },
      "execution_count": null,
      "outputs": []
    },
    {
      "cell_type": "code",
      "source": [
        "train = pd.read_csv('mnist_train.csv')\n",
        "test = pd.read_csv('mnist_test.csv')\n",
        "train.info()\n",
        "test.info()\n",
        "\n",
        "# split image and label\n",
        "train_label = train.iloc[:, 0].values\n",
        "train_img = train.iloc[:, 1:]\n",
        "test_label = test.iloc[:, 0].values\n",
        "test_img = test.iloc[:, 1:]\n",
        "# check the dataset of one example\n",
        "count=1\n",
        "for a in range (10):\n",
        "    imarray = train_img.iloc[a, :].values.reshape(28,28)\n",
        "    plt.subplot(2,5,count)\n",
        "    plt.subplots_adjust(hspace=0.1)\n",
        "    count += 1\n",
        "    plt.axis('off')\n",
        "    plt.title(\"Label is \" + str(train_label[a]))\n",
        "    plt.imshow(imarray, cmap='Greys', interpolation='None')"
      ],
      "metadata": {
        "colab": {
          "base_uri": "https://localhost:8080/",
          "height": 512
        },
        "id": "G-aRxXJChPWP",
        "outputId": "d4b73549-bfba-4252-b3de-5a7ebe031a23"
      },
      "execution_count": null,
      "outputs": [
        {
          "output_type": "stream",
          "name": "stdout",
          "text": [
            "<class 'pandas.core.frame.DataFrame'>\n",
            "RangeIndex: 59999 entries, 0 to 59998\n",
            "Columns: 785 entries, 5 to 0.617\n",
            "dtypes: int64(785)\n",
            "memory usage: 359.3 MB\n",
            "<class 'pandas.core.frame.DataFrame'>\n",
            "RangeIndex: 9999 entries, 0 to 9998\n",
            "Columns: 785 entries, 7 to 0.667\n",
            "dtypes: int64(785)\n",
            "memory usage: 59.9 MB\n"
          ]
        },
        {
          "output_type": "display_data",
          "data": {
            "text/plain": [
              "<Figure size 640x480 with 10 Axes>"
            ],
            "image/png": "[encoded data removed]"
          },
          "metadata": {}
        }
      ]
    },
    {
      "cell_type": "code",
      "source": [
        "# reshape to be [samples][pixels][width][height]\n",
        "train_img = train_img.values.reshape(-1,1,28,28)\n",
        "test_img = test_img.values.reshape(-1,1,28,28)\n",
        "train_img = train_img / 255.0\n",
        "test_img = test_img / 255.0\n",
        "# normalize inputs from 0-255 to 0-1\n",
        "print(train_img.shape)\n",
        "print(train_label.shape)\n",
        "print(test_img.shape)\n",
        "print(test_label.shape)\n",
        "\n",
        "BATCH_SIZE = 1000\n",
        "\n",
        "# create feature and targets tensor for training set.\n",
        "torch_X_train = torch.from_numpy(train_img).float()\n",
        "torch_y_train = torch.from_numpy(train_label)\n",
        "# create feature and targets tensor for testing set.\n",
        "torch_X_test = torch.from_numpy(test_img).float()\n",
        "torch_y_test = torch.from_numpy(test_label)\n",
        "# Pytorch train and test sets\n",
        "train = torch.utils.data.TensorDataset(torch_X_train,torch_y_train)\n",
        "test = torch.utils.data.TensorDataset(torch_X_test,torch_y_test)\n",
        "\n",
        "# data loader\n",
        "train_loader = torch.utils.data.DataLoader(train, batch_size = BATCH_SIZE, shuffle = False, num_workers=4)\n",
        "test_loader = torch.utils.data.DataLoader(test, batch_size = BATCH_SIZE, shuffle = False, num_workers=4)"
      ],
      "metadata": {
        "colab": {
          "base_uri": "https://localhost:8080/"
        },
        "id": "CvZxRF28hUkz",
        "outputId": "b418991d-6473-4b20-b497-ec476e79d14c"
      },
      "execution_count": null,
      "outputs": [
        {
          "output_type": "stream",
          "name": "stdout",
          "text": [
            "(59999, 1, 28, 28)\n",
            "(59999,)\n",
            "(9999, 1, 28, 28)\n",
            "(9999,)\n"
          ]
        },
        {
          "output_type": "stream",
          "name": "stderr",
          "text": [
            "/usr/local/lib/python3.10/dist-packages/torch/utils/data/dataloader.py:558: UserWarning: This DataLoader will create 4 worker processes in total. Our suggested max number of worker in current system is 2, which is smaller than what this DataLoader is going to create. Please be aware that excessive worker creation might get DataLoader running slow or even freeze, lower the worker number to avoid potential slowness/freeze if necessary.\n",
            "  warnings.warn(_create_warning_msg(\n"
          ]
        }
      ]
    },
    {
      "cell_type": "code",
      "source": [
        "# Defining the network (LeNet-5)\n",
        "class LeNet5(nn.Module):\n",
        "    #This defines the structure of the NN.\n",
        "    def __init__(self):\n",
        "        super(LeNet5, self).__init__()\n",
        "        self.conv1 = nn.Conv2d(in_channels=1, out_channels=6, kernel_size=5, stride=1, padding=2)\n",
        "        self.act1 = nn.ReLU()\n",
        "        self.maxpool1 = nn.MaxPool2d(kernel_size=2, stride=2, padding=0)\n",
        "        self.conv2 = nn.Conv2d(in_channels=6, out_channels=16, kernel_size=5, stride=1, padding=0)\n",
        "        self.act2 = nn.ReLU()\n",
        "        self.maxpool2 = nn.MaxPool2d(kernel_size=2, stride=2, padding=0)\n",
        "        self.fc1 = nn.Linear(in_features=400, out_features=120)\n",
        "        self.act3 = nn.ReLU()\n",
        "        self.fc2 = nn.Linear(in_features=120, out_features=84)\n",
        "        self.act4 = nn.ReLU()\n",
        "        self.fc3 = nn.Linear(in_features=84, out_features=10)\n",
        "\n",
        "    def forward(self, x):\n",
        "        #Convolutional Layer/Pooling Layer/Activation\n",
        "        x = self.conv1(x)\n",
        "        x = self.act1(x)\n",
        "        x = self.maxpool1(x)\n",
        "        #Convolutional Layer/Dropout/Pooling Layer/Activation\n",
        "        x = self.conv2(x)\n",
        "        x = self.act2(x)\n",
        "        x = self.maxpool2(x)\n",
        "        x = x.view(-1, 400)\n",
        "        #Fully Connected Layer/Activation\n",
        "        x = self.fc1(x)\n",
        "        x = self.act3(x)\n",
        "        #Fully Connected Layer/Activation\n",
        "        x = self.fc2(x)\n",
        "        x = self.act4(x)\n",
        "\n",
        "        return self.fc3(x)\n",
        "\n",
        "criterion = nn.CrossEntropyLoss()\n",
        "criterion = criterion.cuda()"
      ],
      "metadata": {
        "id": "9rh_GbUehYNi"
      },
      "execution_count": null,
      "outputs": []
    },
    {
      "cell_type": "code",
      "source": [
        "def train(epoch):\n",
        "    model.train()\n",
        "    epoch_loss = 0\n",
        "    for batch_idx, (data, target) in enumerate(train_loader):\n",
        "        data, target = data.cuda(), target.cuda()\n",
        "        #Variables in Pytorch are differenciable.\n",
        "        data, target = Variable(data), Variable(target)\n",
        "        #This will zero out the gradients for this batch.\n",
        "        optimizer.zero_grad()\n",
        "        output = model(data)\n",
        "        # Calculate the loss The negative log likelihood loss. It is useful to train a classification problem with C classes.\n",
        "        loss = criterion(output, target)\n",
        "        #dloss/dx for every Variable\n",
        "        loss.backward()\n",
        "        #to do a one-step update on our parameter.\n",
        "        optimizer.step()\n",
        "        epoch_loss += loss.item()\n",
        "    #Print out the loss periodically.\n",
        "    avg_loss = epoch_loss / len(train_loader)\n",
        "    print(\"===> Epoch {} Complete: Training loss: {:.4f}\".format(epoch, avg_loss))\n",
        "    return avg_loss"
      ],
      "metadata": {
        "id": "2iOfZhr3ha96"
      },
      "execution_count": null,
      "outputs": []
    },
    {
      "cell_type": "code",
      "source": [
        "def train_accuracy(epoch):\n",
        "    model.eval()\n",
        "    correct = 0\n",
        "    for batch_idx, (data, target) in enumerate(train_loader):\n",
        "        data, target = data.cuda(), target.cuda()\n",
        "        data, target = Variable(data), Variable(target)\n",
        "        with torch.no_grad():\n",
        "            output = model(data)\n",
        "        _, predicted = torch.max(output.data, 1) # get the index of the max log-probability\n",
        "        correct += (predicted == target).sum().item()\n",
        "    avg_accuracy = correct / len(train_loader.dataset)\n",
        "    print(\"===> Epoch {} Complete: Training accuracy: {:.4f}%\".format(epoch, 100. * avg_accuracy))\n",
        "    return avg_accuracy"
      ],
      "metadata": {
        "id": "gstt8Y-0hf_i"
      },
      "execution_count": null,
      "outputs": []
    },
    {
      "cell_type": "code",
      "source": [
        "def test(epoch):\n",
        "    model.eval()\n",
        "    correct = 0\n",
        "    for batch_idx, (data, target) in enumerate(test_loader):\n",
        "        data, target = data.cuda(), target.cuda()\n",
        "        data, target = Variable(data), Variable(target)\n",
        "        with torch.no_grad():\n",
        "            output = model(data)\n",
        "        _, predicted = torch.max(output.data, 1) # get the index of the max log-probability\n",
        "        correct += (predicted == target).sum().item()\n",
        "    avg_accuracy = correct / len(test_loader.dataset)\n",
        "    print(\"===> Epoch {} Complete: Testing accuracy: {:.4f}%\".format(epoch, 100. * avg_accuracy))\n",
        "    return avg_accuracy"
      ],
      "metadata": {
        "id": "ODqVkCikhify"
      },
      "execution_count": null,
      "outputs": []
    },
    {
      "cell_type": "code",
      "source": [
        "def checkpoint(epoch):\n",
        "    model_out_path = \"Training_epoch_{}.pth\".format(epoch)\n",
        "    torch.save(model.state_dict(), model_out_path)\n",
        "    print(\"Checkpoint saved to {}\".format(model_out_path))"
      ],
      "metadata": {
        "id": "lnIgmDWFhk8S"
      },
      "execution_count": null,
      "outputs": []
    },
    {
      "cell_type": "code",
      "source": [
        "model = LeNet5()\n",
        "model.cuda()\n",
        "\n",
        "optimizer = torch.optim.SGD(model.parameters(), lr=0.01, momentum=0.5)"
      ],
      "metadata": {
        "id": "baPErjlblmGk"
      },
      "execution_count": null,
      "outputs": []
    },
    {
      "cell_type": "markdown",
      "source": [
        "**Task 1:** The following code should be the task that the students complete themselves. A full loop that records the training loss and testing accuracy"
      ],
      "metadata": {
        "id": "9kKa6DMplsns"
      }
    },
    {
      "cell_type": "code",
      "source": [
        "train_losses = []\n",
        "train_correct = []\n",
        "test_correct = []\n",
        "for epoch in range(1, 101, 1):\n",
        "    train_losses.append(train(epoch))\n",
        "    train_correct.append(train_accuracy(epoch))\n",
        "    test_correct.append(test(epoch))\n",
        "    if epoch % 10 == 0:\n",
        "        checkpoint(epoch)"
      ],
      "metadata": {
        "colab": {
          "base_uri": "https://localhost:8080/"
        },
        "id": "YGDciRxfhoI9",
        "outputId": "2685c6f5-c29b-4b04-f01c-fbdeaeeca258"
      },
      "execution_count": null,
      "outputs": [
        {
          "output_type": "stream",
          "name": "stdout",
          "text": [
            "===> Epoch 1 Complete: Training loss: 2.3023\n",
            "===> Epoch 1 Complete: Training accuracy: 10.4435%\n",
            "===> Epoch 1 Complete: Testing accuracy: 10.2710%\n",
            "===> Epoch 2 Complete: Training loss: 2.2990\n",
            "===> Epoch 2 Complete: Training accuracy: 10.4452%\n",
            "===> Epoch 2 Complete: Testing accuracy: 10.2810%\n",
            "===> Epoch 3 Complete: Training loss: 2.2954\n",
            "===> Epoch 3 Complete: Training accuracy: 10.6685%\n",
            "===> Epoch 3 Complete: Testing accuracy: 10.4910%\n",
            "===> Epoch 4 Complete: Training loss: 2.2904\n",
            "===> Epoch 4 Complete: Training accuracy: 24.6221%\n",
            "===> Epoch 4 Complete: Testing accuracy: 24.6325%\n",
            "===> Epoch 5 Complete: Training loss: 2.2825\n",
            "===> Epoch 5 Complete: Training accuracy: 29.7922%\n",
            "===> Epoch 5 Complete: Testing accuracy: 29.9430%\n",
            "===> Epoch 6 Complete: Training loss: 2.2688\n",
            "===> Epoch 6 Complete: Training accuracy: 41.2140%\n",
            "===> Epoch 6 Complete: Testing accuracy: 41.3341%\n",
            "===> Epoch 7 Complete: Training loss: 2.2382\n",
            "===> Epoch 7 Complete: Training accuracy: 54.9926%\n",
            "===> Epoch 7 Complete: Testing accuracy: 56.6057%\n",
            "===> Epoch 8 Complete: Training loss: 2.1311\n",
            "===> Epoch 8 Complete: Training accuracy: 57.9393%\n",
            "===> Epoch 8 Complete: Testing accuracy: 59.4059%\n",
            "===> Epoch 9 Complete: Training loss: 1.5484\n",
            "===> Epoch 9 Complete: Training accuracy: 76.5079%\n",
            "===> Epoch 9 Complete: Testing accuracy: 77.6278%\n",
            "===> Epoch 10 Complete: Training loss: 0.7459\n",
            "===> Epoch 10 Complete: Training accuracy: 82.3530%\n",
            "===> Epoch 10 Complete: Testing accuracy: 83.3083%\n",
            "Checkpoint saved to Training_epoch_10.pth\n",
            "===> Epoch 11 Complete: Training loss: 0.5142\n",
            "===> Epoch 11 Complete: Training accuracy: 85.8514%\n",
            "===> Epoch 11 Complete: Testing accuracy: 86.9887%\n",
            "===> Epoch 12 Complete: Training loss: 0.4215\n",
            "===> Epoch 12 Complete: Training accuracy: 88.0581%\n",
            "===> Epoch 12 Complete: Testing accuracy: 89.0389%\n",
            "===> Epoch 13 Complete: Training loss: 0.3668\n",
            "===> Epoch 13 Complete: Training accuracy: 89.4882%\n",
            "===> Epoch 13 Complete: Testing accuracy: 90.2490%\n",
            "===> Epoch 14 Complete: Training loss: 0.3292\n",
            "===> Epoch 14 Complete: Training accuracy: 90.5648%\n",
            "===> Epoch 14 Complete: Testing accuracy: 91.3191%\n",
            "===> Epoch 15 Complete: Training loss: 0.3006\n",
            "===> Epoch 15 Complete: Training accuracy: 91.3565%\n",
            "===> Epoch 15 Complete: Testing accuracy: 92.0692%\n",
            "===> Epoch 16 Complete: Training loss: 0.2773\n",
            "===> Epoch 16 Complete: Training accuracy: 92.0582%\n",
            "===> Epoch 16 Complete: Testing accuracy: 92.8493%\n",
            "===> Epoch 17 Complete: Training loss: 0.2575\n",
            "===> Epoch 17 Complete: Training accuracy: 92.5982%\n",
            "===> Epoch 17 Complete: Testing accuracy: 93.3093%\n",
            "===> Epoch 18 Complete: Training loss: 0.2402\n",
            "===> Epoch 18 Complete: Training accuracy: 93.1216%\n",
            "===> Epoch 18 Complete: Testing accuracy: 93.7394%\n",
            "===> Epoch 19 Complete: Training loss: 0.2249\n",
            "===> Epoch 19 Complete: Training accuracy: 93.4882%\n",
            "===> Epoch 19 Complete: Testing accuracy: 94.1294%\n",
            "===> Epoch 20 Complete: Training loss: 0.2113\n",
            "===> Epoch 20 Complete: Training accuracy: 93.8182%\n",
            "===> Epoch 20 Complete: Testing accuracy: 94.3094%\n",
            "Checkpoint saved to Training_epoch_20.pth\n",
            "===> Epoch 21 Complete: Training loss: 0.1993\n",
            "===> Epoch 21 Complete: Training accuracy: 94.1532%\n",
            "===> Epoch 21 Complete: Testing accuracy: 94.6795%\n",
            "===> Epoch 22 Complete: Training loss: 0.1884\n",
            "===> Epoch 22 Complete: Training accuracy: 94.4416%\n",
            "===> Epoch 22 Complete: Testing accuracy: 94.9195%\n",
            "===> Epoch 23 Complete: Training loss: 0.1787\n",
            "===> Epoch 23 Complete: Training accuracy: 94.7432%\n",
            "===> Epoch 23 Complete: Testing accuracy: 95.1695%\n",
            "===> Epoch 24 Complete: Training loss: 0.1700\n",
            "===> Epoch 24 Complete: Training accuracy: 94.9949%\n",
            "===> Epoch 24 Complete: Testing accuracy: 95.3895%\n",
            "===> Epoch 25 Complete: Training loss: 0.1622\n",
            "===> Epoch 25 Complete: Training accuracy: 95.2333%\n",
            "===> Epoch 25 Complete: Testing accuracy: 95.5696%\n",
            "===> Epoch 26 Complete: Training loss: 0.1552\n",
            "===> Epoch 26 Complete: Training accuracy: 95.4099%\n",
            "===> Epoch 26 Complete: Testing accuracy: 95.7096%\n",
            "===> Epoch 27 Complete: Training loss: 0.1488\n",
            "===> Epoch 27 Complete: Training accuracy: 95.5933%\n",
            "===> Epoch 27 Complete: Testing accuracy: 95.8896%\n",
            "===> Epoch 28 Complete: Training loss: 0.1430\n",
            "===> Epoch 28 Complete: Training accuracy: 95.7383%\n",
            "===> Epoch 28 Complete: Testing accuracy: 96.0996%\n",
            "===> Epoch 29 Complete: Training loss: 0.1376\n",
            "===> Epoch 29 Complete: Training accuracy: 95.9066%\n",
            "===> Epoch 29 Complete: Testing accuracy: 96.1496%\n",
            "===> Epoch 30 Complete: Training loss: 0.1327\n",
            "===> Epoch 30 Complete: Training accuracy: 96.0449%\n",
            "===> Epoch 30 Complete: Testing accuracy: 96.2896%\n",
            "Checkpoint saved to Training_epoch_30.pth\n",
            "===> Epoch 31 Complete: Training loss: 0.1282\n",
            "===> Epoch 31 Complete: Training accuracy: 96.1599%\n",
            "===> Epoch 31 Complete: Testing accuracy: 96.3796%\n",
            "===> Epoch 32 Complete: Training loss: 0.1242\n",
            "===> Epoch 32 Complete: Training accuracy: 96.2999%\n",
            "===> Epoch 32 Complete: Testing accuracy: 96.4796%\n",
            "===> Epoch 33 Complete: Training loss: 0.1205\n",
            "===> Epoch 33 Complete: Training accuracy: 96.4099%\n",
            "===> Epoch 33 Complete: Testing accuracy: 96.6297%\n",
            "===> Epoch 34 Complete: Training loss: 0.1170\n",
            "===> Epoch 34 Complete: Training accuracy: 96.4983%\n",
            "===> Epoch 34 Complete: Testing accuracy: 96.6797%\n",
            "===> Epoch 35 Complete: Training loss: 0.1139\n",
            "===> Epoch 35 Complete: Training accuracy: 96.5733%\n",
            "===> Epoch 35 Complete: Testing accuracy: 96.7397%\n",
            "===> Epoch 36 Complete: Training loss: 0.1109\n",
            "===> Epoch 36 Complete: Training accuracy: 96.6533%\n",
            "===> Epoch 36 Complete: Testing accuracy: 96.8097%\n",
            "===> Epoch 37 Complete: Training loss: 0.1081\n",
            "===> Epoch 37 Complete: Training accuracy: 96.7266%\n",
            "===> Epoch 37 Complete: Testing accuracy: 96.8597%\n",
            "===> Epoch 38 Complete: Training loss: 0.1055\n",
            "===> Epoch 38 Complete: Training accuracy: 96.7816%\n",
            "===> Epoch 38 Complete: Testing accuracy: 96.9197%\n",
            "===> Epoch 39 Complete: Training loss: 0.1031\n",
            "===> Epoch 39 Complete: Training accuracy: 96.8566%\n",
            "===> Epoch 39 Complete: Testing accuracy: 96.9697%\n",
            "===> Epoch 40 Complete: Training loss: 0.1009\n",
            "===> Epoch 40 Complete: Training accuracy: 96.9183%\n",
            "===> Epoch 40 Complete: Testing accuracy: 97.0697%\n",
            "Checkpoint saved to Training_epoch_40.pth\n",
            "===> Epoch 41 Complete: Training loss: 0.0988\n",
            "===> Epoch 41 Complete: Training accuracy: 96.9749%\n",
            "===> Epoch 41 Complete: Testing accuracy: 97.1397%\n",
            "===> Epoch 42 Complete: Training loss: 0.0968\n",
            "===> Epoch 42 Complete: Training accuracy: 97.0200%\n",
            "===> Epoch 42 Complete: Testing accuracy: 97.1397%\n",
            "===> Epoch 43 Complete: Training loss: 0.0949\n",
            "===> Epoch 43 Complete: Training accuracy: 97.0750%\n",
            "===> Epoch 43 Complete: Testing accuracy: 97.1797%\n",
            "===> Epoch 44 Complete: Training loss: 0.0931\n",
            "===> Epoch 44 Complete: Training accuracy: 97.1366%\n",
            "===> Epoch 44 Complete: Testing accuracy: 97.1997%\n",
            "===> Epoch 45 Complete: Training loss: 0.0914\n",
            "===> Epoch 45 Complete: Training accuracy: 97.1833%\n",
            "===> Epoch 45 Complete: Testing accuracy: 97.2297%\n",
            "===> Epoch 46 Complete: Training loss: 0.0898\n",
            "===> Epoch 46 Complete: Training accuracy: 97.2316%\n",
            "===> Epoch 46 Complete: Testing accuracy: 97.2897%\n",
            "===> Epoch 47 Complete: Training loss: 0.0882\n",
            "===> Epoch 47 Complete: Training accuracy: 97.2766%\n",
            "===> Epoch 47 Complete: Testing accuracy: 97.3197%\n",
            "===> Epoch 48 Complete: Training loss: 0.0868\n",
            "===> Epoch 48 Complete: Training accuracy: 97.3216%\n",
            "===> Epoch 48 Complete: Testing accuracy: 97.3497%\n",
            "===> Epoch 49 Complete: Training loss: 0.0853\n",
            "===> Epoch 49 Complete: Training accuracy: 97.3566%\n",
            "===> Epoch 49 Complete: Testing accuracy: 97.4197%\n",
            "===> Epoch 50 Complete: Training loss: 0.0840\n",
            "===> Epoch 50 Complete: Training accuracy: 97.4000%\n",
            "===> Epoch 50 Complete: Testing accuracy: 97.4397%\n",
            "Checkpoint saved to Training_epoch_50.pth\n",
            "===> Epoch 51 Complete: Training loss: 0.0827\n",
            "===> Epoch 51 Complete: Training accuracy: 97.4400%\n",
            "===> Epoch 51 Complete: Testing accuracy: 97.4797%\n",
            "===> Epoch 52 Complete: Training loss: 0.0815\n",
            "===> Epoch 52 Complete: Training accuracy: 97.4683%\n",
            "===> Epoch 52 Complete: Testing accuracy: 97.5098%\n",
            "===> Epoch 53 Complete: Training loss: 0.0803\n",
            "===> Epoch 53 Complete: Training accuracy: 97.5000%\n",
            "===> Epoch 53 Complete: Testing accuracy: 97.5498%\n",
            "===> Epoch 54 Complete: Training loss: 0.0792\n",
            "===> Epoch 54 Complete: Training accuracy: 97.5350%\n",
            "===> Epoch 54 Complete: Testing accuracy: 97.5798%\n",
            "===> Epoch 55 Complete: Training loss: 0.0780\n",
            "===> Epoch 55 Complete: Training accuracy: 97.5600%\n",
            "===> Epoch 55 Complete: Testing accuracy: 97.6198%\n",
            "===> Epoch 56 Complete: Training loss: 0.0770\n",
            "===> Epoch 56 Complete: Training accuracy: 97.5916%\n",
            "===> Epoch 56 Complete: Testing accuracy: 97.6398%\n",
            "===> Epoch 57 Complete: Training loss: 0.0760\n",
            "===> Epoch 57 Complete: Training accuracy: 97.6133%\n",
            "===> Epoch 57 Complete: Testing accuracy: 97.6998%\n",
            "===> Epoch 58 Complete: Training loss: 0.0750\n",
            "===> Epoch 58 Complete: Training accuracy: 97.6350%\n",
            "===> Epoch 58 Complete: Testing accuracy: 97.7098%\n",
            "===> Epoch 59 Complete: Training loss: 0.0740\n",
            "===> Epoch 59 Complete: Training accuracy: 97.6683%\n",
            "===> Epoch 59 Complete: Testing accuracy: 97.7298%\n",
            "===> Epoch 60 Complete: Training loss: 0.0731\n",
            "===> Epoch 60 Complete: Training accuracy: 97.7016%\n",
            "===> Epoch 60 Complete: Testing accuracy: 97.7498%\n",
            "Checkpoint saved to Training_epoch_60.pth\n",
            "===> Epoch 61 Complete: Training loss: 0.0722\n",
            "===> Epoch 61 Complete: Training accuracy: 97.7216%\n",
            "===> Epoch 61 Complete: Testing accuracy: 97.7898%\n",
            "===> Epoch 62 Complete: Training loss: 0.0713\n",
            "===> Epoch 62 Complete: Training accuracy: 97.7400%\n",
            "===> Epoch 62 Complete: Testing accuracy: 97.8198%\n",
            "===> Epoch 63 Complete: Training loss: 0.0705\n",
            "===> Epoch 63 Complete: Training accuracy: 97.7600%\n",
            "===> Epoch 63 Complete: Testing accuracy: 97.8398%\n",
            "===> Epoch 64 Complete: Training loss: 0.0697\n",
            "===> Epoch 64 Complete: Training accuracy: 97.7816%\n",
            "===> Epoch 64 Complete: Testing accuracy: 97.8698%\n",
            "===> Epoch 65 Complete: Training loss: 0.0689\n",
            "===> Epoch 65 Complete: Training accuracy: 97.8016%\n",
            "===> Epoch 65 Complete: Testing accuracy: 97.8898%\n",
            "===> Epoch 66 Complete: Training loss: 0.0681\n",
            "===> Epoch 66 Complete: Training accuracy: 97.8233%\n",
            "===> Epoch 66 Complete: Testing accuracy: 97.8798%\n",
            "===> Epoch 67 Complete: Training loss: 0.0674\n",
            "===> Epoch 67 Complete: Training accuracy: 97.8433%\n",
            "===> Epoch 67 Complete: Testing accuracy: 97.8798%\n",
            "===> Epoch 68 Complete: Training loss: 0.0666\n",
            "===> Epoch 68 Complete: Training accuracy: 97.8533%\n",
            "===> Epoch 68 Complete: Testing accuracy: 97.8798%\n",
            "===> Epoch 69 Complete: Training loss: 0.0659\n",
            "===> Epoch 69 Complete: Training accuracy: 97.8883%\n",
            "===> Epoch 69 Complete: Testing accuracy: 97.8798%\n",
            "===> Epoch 70 Complete: Training loss: 0.0652\n",
            "===> Epoch 70 Complete: Training accuracy: 97.9016%\n",
            "===> Epoch 70 Complete: Testing accuracy: 97.8998%\n",
            "Checkpoint saved to Training_epoch_70.pth\n",
            "===> Epoch 71 Complete: Training loss: 0.0645\n",
            "===> Epoch 71 Complete: Training accuracy: 97.9350%\n",
            "===> Epoch 71 Complete: Testing accuracy: 97.9098%\n",
            "===> Epoch 72 Complete: Training loss: 0.0639\n",
            "===> Epoch 72 Complete: Training accuracy: 97.9566%\n",
            "===> Epoch 72 Complete: Testing accuracy: 97.9098%\n",
            "===> Epoch 73 Complete: Training loss: 0.0632\n",
            "===> Epoch 73 Complete: Training accuracy: 97.9666%\n",
            "===> Epoch 73 Complete: Testing accuracy: 97.8798%\n",
            "===> Epoch 74 Complete: Training loss: 0.0626\n",
            "===> Epoch 74 Complete: Training accuracy: 97.9833%\n",
            "===> Epoch 74 Complete: Testing accuracy: 97.8798%\n",
            "===> Epoch 75 Complete: Training loss: 0.0620\n",
            "===> Epoch 75 Complete: Training accuracy: 97.9950%\n",
            "===> Epoch 75 Complete: Testing accuracy: 97.8898%\n",
            "===> Epoch 76 Complete: Training loss: 0.0614\n",
            "===> Epoch 76 Complete: Training accuracy: 98.0183%\n",
            "===> Epoch 76 Complete: Testing accuracy: 97.8998%\n",
            "===> Epoch 77 Complete: Training loss: 0.0608\n",
            "===> Epoch 77 Complete: Training accuracy: 98.0400%\n",
            "===> Epoch 77 Complete: Testing accuracy: 97.9298%\n",
            "===> Epoch 78 Complete: Training loss: 0.0602\n",
            "===> Epoch 78 Complete: Training accuracy: 98.0583%\n",
            "===> Epoch 78 Complete: Testing accuracy: 97.9198%\n",
            "===> Epoch 79 Complete: Training loss: 0.0597\n",
            "===> Epoch 79 Complete: Training accuracy: 98.0900%\n",
            "===> Epoch 79 Complete: Testing accuracy: 97.9198%\n",
            "===> Epoch 80 Complete: Training loss: 0.0591\n",
            "===> Epoch 80 Complete: Training accuracy: 98.1016%\n",
            "===> Epoch 80 Complete: Testing accuracy: 97.9498%\n",
            "Checkpoint saved to Training_epoch_80.pth\n",
            "===> Epoch 81 Complete: Training loss: 0.0586\n",
            "===> Epoch 81 Complete: Training accuracy: 98.1300%\n",
            "===> Epoch 81 Complete: Testing accuracy: 97.9398%\n",
            "===> Epoch 82 Complete: Training loss: 0.0580\n",
            "===> Epoch 82 Complete: Training accuracy: 98.1500%\n",
            "===> Epoch 82 Complete: Testing accuracy: 97.9898%\n",
            "===> Epoch 83 Complete: Training loss: 0.0575\n",
            "===> Epoch 83 Complete: Training accuracy: 98.1683%\n",
            "===> Epoch 83 Complete: Testing accuracy: 98.0098%\n",
            "===> Epoch 84 Complete: Training loss: 0.0570\n",
            "===> Epoch 84 Complete: Training accuracy: 98.1783%\n",
            "===> Epoch 84 Complete: Testing accuracy: 98.0298%\n",
            "===> Epoch 85 Complete: Training loss: 0.0565\n",
            "===> Epoch 85 Complete: Training accuracy: 98.1850%\n",
            "===> Epoch 85 Complete: Testing accuracy: 98.0198%\n",
            "===> Epoch 86 Complete: Training loss: 0.0560\n",
            "===> Epoch 86 Complete: Training accuracy: 98.2016%\n",
            "===> Epoch 86 Complete: Testing accuracy: 98.0398%\n",
            "===> Epoch 87 Complete: Training loss: 0.0555\n",
            "===> Epoch 87 Complete: Training accuracy: 98.2233%\n",
            "===> Epoch 87 Complete: Testing accuracy: 98.0398%\n",
            "===> Epoch 88 Complete: Training loss: 0.0550\n",
            "===> Epoch 88 Complete: Training accuracy: 98.2333%\n",
            "===> Epoch 88 Complete: Testing accuracy: 98.0598%\n",
            "===> Epoch 89 Complete: Training loss: 0.0546\n",
            "===> Epoch 89 Complete: Training accuracy: 98.2416%\n",
            "===> Epoch 89 Complete: Testing accuracy: 98.0398%\n",
            "===> Epoch 90 Complete: Training loss: 0.0541\n",
            "===> Epoch 90 Complete: Training accuracy: 98.2550%\n",
            "===> Epoch 90 Complete: Testing accuracy: 98.0498%\n",
            "Checkpoint saved to Training_epoch_90.pth\n",
            "===> Epoch 91 Complete: Training loss: 0.0536\n",
            "===> Epoch 91 Complete: Training accuracy: 98.2683%\n",
            "===> Epoch 91 Complete: Testing accuracy: 98.0598%\n",
            "===> Epoch 92 Complete: Training loss: 0.0532\n",
            "===> Epoch 92 Complete: Training accuracy: 98.2766%\n",
            "===> Epoch 92 Complete: Testing accuracy: 98.0998%\n",
            "===> Epoch 93 Complete: Training loss: 0.0528\n",
            "===> Epoch 93 Complete: Training accuracy: 98.2900%\n",
            "===> Epoch 93 Complete: Testing accuracy: 98.0998%\n",
            "===> Epoch 94 Complete: Training loss: 0.0523\n",
            "===> Epoch 94 Complete: Training accuracy: 98.3050%\n",
            "===> Epoch 94 Complete: Testing accuracy: 98.1298%\n",
            "===> Epoch 95 Complete: Training loss: 0.0519\n",
            "===> Epoch 95 Complete: Training accuracy: 98.3050%\n",
            "===> Epoch 95 Complete: Testing accuracy: 98.1198%\n",
            "===> Epoch 96 Complete: Training loss: 0.0515\n",
            "===> Epoch 96 Complete: Training accuracy: 98.3200%\n",
            "===> Epoch 96 Complete: Testing accuracy: 98.0998%\n",
            "===> Epoch 97 Complete: Training loss: 0.0510\n",
            "===> Epoch 97 Complete: Training accuracy: 98.3366%\n",
            "===> Epoch 97 Complete: Testing accuracy: 98.1298%\n",
            "===> Epoch 98 Complete: Training loss: 0.0506\n",
            "===> Epoch 98 Complete: Training accuracy: 98.3533%\n",
            "===> Epoch 98 Complete: Testing accuracy: 98.1398%\n",
            "===> Epoch 99 Complete: Training loss: 0.0502\n",
            "===> Epoch 99 Complete: Training accuracy: 98.3533%\n",
            "===> Epoch 99 Complete: Testing accuracy: 98.1598%\n",
            "===> Epoch 100 Complete: Training loss: 0.0498\n",
            "===> Epoch 100 Complete: Training accuracy: 98.3600%\n",
            "===> Epoch 100 Complete: Testing accuracy: 98.1598%\n",
            "Checkpoint saved to Training_epoch_100.pth\n"
          ]
        }
      ]
    },
    {
      "cell_type": "markdown",
      "source": [
        "**Task 2.** Plot the training loss and testing accuracy VS epoches"
      ],
      "metadata": {
        "id": "dCai4MeblzuS"
      }
    },
    {
      "cell_type": "code",
      "source": [
        "fig = plt.figure()\n",
        "plt.plot(np.arange(1,101,1), train_losses, color='blue')\n",
        "plt.plot(np.arange(1,101,1), train_correct, color='green')\n",
        "plt.plot(np.arange(1,101,1), test_correct, color='red')\n",
        "plt.legend(['Train Loss', 'Train accuracy', 'Test accuracy'], loc='upper right')\n",
        "plt.xlabel('number of epoches')\n",
        "plt.ylabel('loss')\n",
        "plt.show()"
      ],
      "metadata": {
        "colab": {
          "base_uri": "https://localhost:8080/",
          "height": 449
        },
        "id": "2odo4kQCj9hV",
        "outputId": "dca1d7c5-00d3-4f5f-c22e-2f47a8ca6a1b"
      },
      "execution_count": null,
      "outputs": [
        {
          "output_type": "display_data",
          "data": {
            "text/plain": [
              "<Figure size 640x480 with 1 Axes>"
            ],
            "image/png": "[encoded data removed]"
          },
          "metadata": {}
        }
      ]
    },
    {
      "cell_type": "markdown",
      "source": [
        "**Task 3.** load pre-trained model and visualize the prediction on the testing samples."
      ],
      "metadata": {
        "id": "YlOyEw7Gl616"
      }
    },
    {
      "cell_type": "code",
      "source": [
        "model_name = 'Training_epoch_100.pth'\n",
        "model.load_state_dict(torch.load(model_name, map_location=lambda storage, loc: storage))\n",
        "count=1\n",
        "model.eval()\n",
        "for a in range (10):\n",
        "    imarray = test_img[a].reshape(1,1,28,28)\n",
        "    data = torch.from_numpy(imarray).float().cuda()\n",
        "    output = model(data)\n",
        "    _, predicted = torch.max(output.data, 1) # this line should be written by students\n",
        "    plt.subplot(2,5,count)\n",
        "    plt.subplots_adjust(hspace=0.2, wspace = 0.6)\n",
        "    count += 1\n",
        "    plt.axis('off')\n",
        "    plt.title('GT: ' + str(test_label[a]) + ' Pred: ' + str(predicted.item()), fontsize=10)\n",
        "    plt.imshow(imarray[0,0,:,:], cmap='Greys', interpolation='None')"
      ],
      "metadata": {
        "colab": {
          "base_uri": "https://localhost:8080/",
          "height": 324
        },
        "id": "CGmxuqTikBtK",
        "outputId": "c052d562-7630-47de-e52c-e4133754aaf7"
      },
      "execution_count": null,
      "outputs": [
        {
          "output_type": "display_data",
          "data": {
            "text/plain": [
              "<Figure size 640x480 with 10 Axes>"
            ],
            "image/png": "[encoded data removed]"
          },
          "metadata": {}
        }
      ]
    },
    {
      "cell_type": "markdown",
      "source": [
        "**Task 4.** Change the learning rate and retrain the model again, plot the new training loss and original training loss in one figure and explain your discovery."
      ],
      "metadata": {
        "id": "APdVVpOmmO27"
      }
    }
  ]
}